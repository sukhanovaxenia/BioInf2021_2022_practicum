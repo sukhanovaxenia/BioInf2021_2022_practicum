{
 "cells": [
  {
   "cell_type": "code",
   "execution_count": 3,
   "id": "fe2c1857",
   "metadata": {},
   "outputs": [],
   "source": [
    "from Bio import SeqIO\n",
    "import os\n",
    "import sys\n",
    "\n",
    "peptides_in = SeqIO.parse('./peptides.fa', 'fasta') #first argument - peptides fasta file\n",
    "proteins_in = SeqIO.parse('augustus.whole.aa', 'fasta') #first argument - proteins fasta file\n",
    "peptides, pep_des = [], []\n",
    "proteins, prot_des = [], []\n",
    "for i in peptides_in:\n",
    "    peptides.append(str(i.seq))\n",
    "    pep_des.append(str(i.id))\n",
    "for j in proteins_in:\n",
    "    proteins.append(str(j.seq))\n",
    "    prot_des.append(str(j.id))\n",
    "cur  = []\n",
    "with open('local_annot_ncbi.txt', 'w') as annot, open('prot_local.fa', 'w') as localized:\n",
    "    for i,prot in enumerate(proteins):\n",
    "        for j,pep in enumerate(peptides):\n",
    "            if pep in prot and prot_des[i] not in cur:\n",
    "                cur.append(prot_des[i])\n",
    "                localized.write(\">\"+prot_des[i] + '|' + pep_des[j] + '\\n' + prot+'\\n')\n",
    "                annot.write(prot_des[i] + '\\t' + pep_des[j]+'\\n')\n",
    "\n"
   ]
  },
  {
   "cell_type": "code",
   "execution_count": 9,
   "id": "43d5b042",
   "metadata": {},
   "outputs": [
    {
     "data": {
      "text/plain": [
       "16435"
      ]
     },
     "execution_count": 9,
     "metadata": {},
     "output_type": "execute_result"
    }
   ],
   "source": []
  },
  {
   "cell_type": "code",
   "execution_count": null,
   "id": "4f98fd63",
   "metadata": {},
   "outputs": [],
   "source": []
  }
 ],
 "metadata": {
  "kernelspec": {
   "display_name": "Python 3",
   "language": "python",
   "name": "python3"
  },
  "language_info": {
   "codemirror_mode": {
    "name": "ipython",
    "version": 3
   },
   "file_extension": ".py",
   "mimetype": "text/x-python",
   "name": "python",
   "nbconvert_exporter": "python",
   "pygments_lexer": "ipython3",
   "version": "3.8.5"
  }
 },
 "nbformat": 4,
 "nbformat_minor": 5
}
